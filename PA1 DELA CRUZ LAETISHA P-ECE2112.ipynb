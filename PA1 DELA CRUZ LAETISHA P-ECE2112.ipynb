{
 "cells": [
  {
   "cell_type": "markdown",
   "id": "8068afa4-6c98-489c-9011-3173f789d4c2",
   "metadata": {},
   "source": [
    "ALPHABET SOUP"
   ]
  },
  {
   "cell_type": "markdown",
   "id": "c3aa42e1-59a5-4f16-ba5f-09d6346003e1",
   "metadata": {},
   "source": [
    "- create a function that takes a string and returns a string with its letters\n",
    "in alphabetical order."
   ]
  },
  {
   "cell_type": "code",
   "execution_count": 2,
   "id": "79a7f945-26b5-458e-8519-467bfca4a8a8",
   "metadata": {},
   "outputs": [
    {
     "name": "stdout",
     "output_type": "stream",
     "text": [
      "ehllo\n"
     ]
    }
   ],
   "source": [
    "alphabet_soup = \"hello\"\n",
    "sorted(alphabet_soup) #sort alphabetically \n",
    "print(''.join(sorted(alphabet_soup))) "
   ]
  },
  {
   "cell_type": "code",
   "execution_count": 3,
   "id": "4c58a2c6-7e2d-4ea6-84e9-09a694566f2e",
   "metadata": {},
   "outputs": [
    {
     "name": "stdout",
     "output_type": "stream",
     "text": [
      "acehkr\n"
     ]
    }
   ],
   "source": [
    "alphabetsoup = \"hacker\"\n",
    "sorted(alphabetsoup) #sort alphabetically\n",
    "print(''.join(sorted(alphabetsoup)))"
   ]
  },
  {
   "cell_type": "markdown",
   "id": "7e23a6eb-b803-486b-9958-07a006b35d61",
   "metadata": {},
   "source": [
    "EMOTICONS"
   ]
  },
  {
   "cell_type": "markdown",
   "id": "1fb90a85-c549-4a94-862a-bc3732c33c32",
   "metadata": {},
   "source": [
    "- Create a function that changes specific words into emoticons. Given a sentence\n",
    "as a string, replace the words smile, grin, sad and mad with their corresponding emoticon:"
   ]
  },
  {
   "cell_type": "code",
   "execution_count": 38,
   "id": "d0f284a6-75d2-4f0b-b201-cf13b79251e1",
   "metadata": {},
   "outputs": [
    {
     "name": "stdout",
     "output_type": "stream",
     "text": [
      "Always :) \n",
      "You make me :D \n",
      "Don't be :(( \n",
      "Do not be >:( \n"
     ]
    }
   ],
   "source": [
    "#for smiley emoticon\n",
    "smile = \":)\" \n",
    "smile_emoticon = \"Always {} \"\n",
    "smile_emoticon.format(smile)\n",
    "\n",
    "#for grin emoticon\n",
    "grin = \":D\"\n",
    "grin_emoticon= \"You make me {} \"\n",
    "grin_emoticon.format(grin)\n",
    "\n",
    "#for sad emoticon\n",
    "sad = \":((\"\n",
    "sad_emoticon = \"Don't be {} \"\n",
    "sad_emoticon.format(sad)\n",
    "\n",
    "#for mad\n",
    "mad = \">:(\"\n",
    "mad_emoticon = \"Do not be {} \"\n",
    "mad_emoticon.format(mad)\n",
    "\n",
    "#print sentences with emoticons\n",
    "print(smile_emoticon.format(smile))\n",
    "print(grin_emoticon.format(grin))\n",
    "print(sad_emoticon.format(sad))\n",
    "print(mad_emoticon.format(mad))"
   ]
  },
  {
   "cell_type": "markdown",
   "id": "b787740d-a73d-4728-9818-d87bad666bad",
   "metadata": {},
   "source": [
    "UNPACKING PROBLEM"
   ]
  },
  {
   "cell_type": "markdown",
   "id": "635fcbd7-4558-4d7f-8d0b-948fd94dcb50",
   "metadata": {},
   "source": [
    "- Unpack the list writeyourcodehere into three variables, being first,\n",
    "middle, and last, with middle being everything in between the first and last element. Then print all three\n",
    "variables"
   ]
  },
  {
   "cell_type": "code",
   "execution_count": 5,
   "id": "82186c3d-326b-4bc0-824f-7d74021f4799",
   "metadata": {},
   "outputs": [
    {
     "name": "stdout",
     "output_type": "stream",
     "text": [
      "first:  w\n",
      "middle:  riteyourcodeher\n",
      "last:  e\n"
     ]
    }
   ],
   "source": [
    "code = list(\"writeyourcodehere\")\n",
    "\n",
    "#unpacking list\n",
    "print(\"first: \",code[0])\n",
    "print(\"middle: \",''.join(code[1:16]))\n",
    "print(\"last: \", code[16])"
   ]
  }
 ],
 "metadata": {
  "kernelspec": {
   "display_name": "Python [conda env:base] *",
   "language": "python",
   "name": "conda-base-py"
  },
  "language_info": {
   "codemirror_mode": {
    "name": "ipython",
    "version": 3
   },
   "file_extension": ".py",
   "mimetype": "text/x-python",
   "name": "python",
   "nbconvert_exporter": "python",
   "pygments_lexer": "ipython3",
   "version": "3.13.5"
  }
 },
 "nbformat": 4,
 "nbformat_minor": 5
}
